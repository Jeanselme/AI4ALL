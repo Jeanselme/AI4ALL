{
 "cells": [
  {
   "cell_type": "markdown",
   "metadata": {},
   "source": [
    "This notebook will introduce the libraries and the tools that you will need for this project. It will present it on a simple dataset: each of the first 8 columns represents the coordinates of a square. The last column represents the area of this square.\n",
    "\n",
    "Later you will have to use these libraries and tools on the house price dataset."
   ]
  },
  {
   "cell_type": "markdown",
   "metadata": {},
   "source": [
    "# Libraries First Steps"
   ]
  },
  {
   "cell_type": "markdown",
   "metadata": {},
   "source": [
    "[Pandas](http://pandas.pydata.org/pandas-docs/stable/) is a library allowing you to manipulate easily different data structure. Here we will only present the essential functions that you will need.\n",
    "\n",
    "[Numpy](https://docs.scipy.org/doc/) is a library for scientific computing.It contains a lot of useful mathematical functions."
   ]
  },
  {
   "cell_type": "code",
   "execution_count": null,
   "metadata": {},
   "outputs": [],
   "source": [
    "# This allows to import the different libraries\n",
    "import numpy as np\n",
    "import pandas as pd"
   ]
  },
  {
   "cell_type": "markdown",
   "metadata": {},
   "source": [
    "## Open the data"
   ]
  },
  {
   "cell_type": "markdown",
   "metadata": {},
   "source": [
    "The first function that you need is `read_csv` which will read a file containg a matrix of data separated by comma (comma separated vector). Each line represents one vector (in this toy example, it represents the coordinate of the square)"
   ]
  },
  {
   "cell_type": "code",
   "execution_count": null,
   "metadata": {},
   "outputs": [],
   "source": [
    "squares = pd.read_csv('data/squares.csv') # Read the file"
   ]
  },
  {
   "cell_type": "markdown",
   "metadata": {},
   "source": [
    "The following representation of a square is used in this dataset :\n",
    "![](img/square.png)"
   ]
  },
  {
   "cell_type": "code",
   "execution_count": null,
   "metadata": {},
   "outputs": [],
   "source": [
    "squares.head() # Display the first lines"
   ]
  },
  {
   "cell_type": "markdown",
   "metadata": {},
   "source": [
    "## Simple description"
   ]
  },
  {
   "cell_type": "markdown",
   "metadata": {},
   "source": [
    "The analysis of the different columns can really be interesting, indicating how the data is distributed."
   ]
  },
  {
   "cell_type": "code",
   "execution_count": null,
   "metadata": {},
   "outputs": [],
   "source": [
    "squares.describe()"
   ]
  },
  {
   "cell_type": "markdown",
   "metadata": {},
   "source": [
    "This command displays 8 numbers for each column of the dataset. The ** count** is the number of non-missing values in the given column.\n",
    "Missing values arise for many reasons. For example, the size of the 2nd bedroom wouldn't be collected when surveying a 1 bedroom house. We'll come back to the topic of missing data.\n",
    "\n",
    "The second value is the **mean**, which is the average. Under that, **std** is the standard deviation, which measures how numerically spread out the values are.\n",
    "\n",
    "To interpret the **min**, **25%**, **50%**, **75%** and **max** values, imagine sorting each column from lowest to highest value. The first (smallest) value is the min. If you go a quarter way through the list, you'll find a number that is bigger than 25% of the values and smaller than 75% of the values. That is the 25% value (pronounced \"25th percentile\"). The 50th and 75th percentiles are defined analgously, and the max is the largest number."
   ]
  },
  {
   "cell_type": "markdown",
   "metadata": {},
   "source": [
    "How many points are present in this dataset ? Use `len(dataset)` or look at the dimension of the matrix returns by `.describe()`"
   ]
  },
  {
   "cell_type": "markdown",
   "metadata": {},
   "source": [
    "## Selection of data points"
   ]
  },
  {
   "cell_type": "markdown",
   "metadata": {},
   "source": [
    "In order to select data points based on the value of a column, you only need to do as follow :"
   ]
  },
  {
   "cell_type": "code",
   "execution_count": null,
   "metadata": {},
   "outputs": [],
   "source": [
    "selection = squares.x0 < 0.25 # Create a list of True and False\n",
    "squares[selection].head() # Selection only the elements where selection is True"
   ]
  },
  {
   "cell_type": "markdown",
   "metadata": {},
   "source": [
    "Use the previous commands to answer the question :\n",
    "How many squares have an area lower than 0.125 ?"
   ]
  },
  {
   "cell_type": "code",
   "execution_count": null,
   "metadata": {},
   "outputs": [],
   "source": []
  },
  {
   "cell_type": "markdown",
   "metadata": {},
   "source": [
    "## Applying a function on a column"
   ]
  },
  {
   "cell_type": "markdown",
   "metadata": {},
   "source": [
    "Let's apply a function to a column, in order to clean it or change its format or even its value.\n",
    "\n",
    "For our toy example, we will say that each square for which x0 < 0.5 is two times too small, the goal is to compute its new coordinates but also the new area of these squares."
   ]
  },
  {
   "cell_type": "code",
   "execution_count": null,
   "metadata": {},
   "outputs": [],
   "source": [
    "# Make a copy to ensure that we don't do anything wrong\n",
    "modifiedSquares = squares.copy()"
   ]
  },
  {
   "cell_type": "markdown",
   "metadata": {},
   "source": [
    "First, let's look how to define a function in python: the word `def` allow you to define a function, then you give it a name and the different arguments it will take in input.\n",
    "\n",
    "```\n",
    "def functionName(argument1, argument2, ...):\n",
    "    \"\"\"\n",
    "        Facultative description of the function\n",
    "    \"\"\"\n",
    "    result = ... \n",
    "    return result\n",
    "```"
   ]
  },
  {
   "cell_type": "code",
   "execution_count": null,
   "metadata": {},
   "outputs": [],
   "source": [
    "# To complete\n",
    "# Define the function multiplyByTwo that multiply a given column by two"
   ]
  },
  {
   "cell_type": "markdown",
   "metadata": {},
   "source": [
    "Second to apply a function to all columns, you can use: \n",
    "`squares.apply(function)`"
   ]
  },
  {
   "cell_type": "code",
   "execution_count": null,
   "metadata": {},
   "outputs": [],
   "source": [
    "# To complete\n",
    "modifiedSquares[...] = ..."
   ]
  },
  {
   "cell_type": "markdown",
   "metadata": {},
   "source": [
    "## Some tests"
   ]
  },
  {
   "cell_type": "markdown",
   "metadata": {},
   "source": [
    "First, you want to verify that we haven't lied and that the column area is really the area of the different squares.\n",
    "\n",
    "To do so, compute the distance between two points and then compute the square\n",
    "\n",
    "Just a little hint:\n",
    "- `np.power(value, exponent)` will allow you to compute the power of a number\n",
    "- `np.sqrt(value)` the square root of a number"
   ]
  },
  {
   "cell_type": "code",
   "execution_count": null,
   "metadata": {},
   "outputs": [],
   "source": [
    "# To complete\n",
    "def side(x0, y0, x1, y1):\n",
    "    \"\"\"\n",
    "        Dataset contains the columns x0, x1 and y0, y1\n",
    "        This function will act on these columns to compute\n",
    "        the distance between 0 and 1\n",
    "        And return the results\n",
    "    \"\"\"\n",
    "    result = \n",
    "    return result"
   ]
  },
  {
   "cell_type": "code",
   "execution_count": null,
   "metadata": {},
   "outputs": [],
   "source": [
    "# To complete\n",
    "# So if we said true the square of the length of squares\n",
    "# should be equal to the area of the same dataset\n",
    "squaredLength = \n",
    "\n",
    "# Do not modify the assert which is a function that compares\n",
    "# verify a condition and raise an error if not True\n",
    "assert np.allclose(squaredLength, squares.area), \"You have certainly made a mistake\""
   ]
  },
  {
   "cell_type": "code",
   "execution_count": null,
   "metadata": {},
   "outputs": [],
   "source": [
    "# To complete\n",
    "# Execute the same computation for modifiedSquares\n",
    "msquaredLength = \n",
    "assert np.allclose(msquaredLength, modifiedSquares.area), \"What is the mistake ?\""
   ]
  },
  {
   "cell_type": "markdown",
   "metadata": {},
   "source": [
    "Why does it not work ? It seems that you have multiply every columns by two. What is the mistake ? And what should you do to correct it ?"
   ]
  },
  {
   "cell_type": "code",
   "execution_count": null,
   "metadata": {},
   "outputs": [],
   "source": []
  },
  {
   "cell_type": "markdown",
   "metadata": {},
   "source": [
    "# Real data "
   ]
  },
  {
   "cell_type": "markdown",
   "metadata": {},
   "source": [
    "## Manipulation with pandas"
   ]
  },
  {
   "cell_type": "markdown",
   "metadata": {},
   "source": [
    "Now, you are ready for playing with some real data !"
   ]
  },
  {
   "cell_type": "code",
   "execution_count": null,
   "metadata": {},
   "outputs": [],
   "source": [
    "# To complete\n",
    "# Open the data located at data/trainTest.csv\n",
    "house_price_train = "
   ]
  },
  {
   "cell_type": "markdown",
   "metadata": {},
   "source": [
    "Answer the following questions:\n",
    "- What is the average price of an house ?\n",
    "- How many variables (called features) describing an house do you have ?\n",
    "- During which period of time this dataset has been collected ? Do you think that all the columns will be useful for the prediction of the price ? If not, delete the ones that you think useless ? Use the function `.drop(columns=\"column_to_delete\")`\n",
    "- Are there missing data ? Which variable seems the most affected ?"
   ]
  },
  {
   "cell_type": "markdown",
   "metadata": {},
   "source": [
    "Your goal will be to predict the price of a house given all the variables that describe this house "
   ]
  },
  {
   "cell_type": "markdown",
   "metadata": {},
   "source": [
    "## Quantitative vs Qualitative "
   ]
  },
  {
   "cell_type": "markdown",
   "metadata": {},
   "source": [
    "Have you look at the different kind of data you have in this dataset ? In data science, there is two main kinds of data : \n",
    "\n",
    "**Quantitative** data deals with numbers and things you can measure objectively: dimensions such as height, width, and length. Temperature and humidity. Prices. Area and volume.\n",
    "\n",
    "**Qualitative** data deals with characteristics and descriptors that can't be easily measured, but can be observed subjectively\u2014such as smells, tastes, textures and color. "
   ]
  },
  {
   "cell_type": "code",
   "execution_count": null,
   "metadata": {},
   "outputs": [],
   "source": [
    "# To complete\n",
    "# Find a quantitative and a qualitative column of data \n",
    "# (you can refer to the file describing the different columns \n",
    "# to have a better idea - description.txt)"
   ]
  },
  {
   "cell_type": "markdown",
   "metadata": {},
   "source": [
    "Why is it important ? And how can we deal with it ?"
   ]
  },
  {
   "cell_type": "code",
   "execution_count": null,
   "metadata": {},
   "outputs": [],
   "source": []
  },
  {
   "cell_type": "markdown",
   "metadata": {},
   "source": [
    "Try to transform a qualitative column into a numerical column.  \n",
    "What is the limit of this approach ?"
   ]
  },
  {
   "cell_type": "code",
   "execution_count": null,
   "metadata": {},
   "outputs": [],
   "source": []
  },
  {
   "cell_type": "markdown",
   "metadata": {},
   "source": [
    "## What kind of problem is it ?"
   ]
  },
  {
   "cell_type": "markdown",
   "metadata": {},
   "source": [
    "In machine learning we distinguish three kind of problems:\n",
    "- **Supervised learning**: where you have input variables (X) and an output variable (Y) and you use an algorithm to learn the mapping function from the input to the output.\n",
    "- **Unsupervised learning**: you only have input data (X) and no corresponding output variables. The goal for unsupervised learning is to model the underlying structure or distribution in the data in order to learn more about the data.\n",
    "- **Semi supervised learning**: where you have a large amount of input data (X) and only some of the data is labeled (Y) are called semi-supervised learning problems. These problems sit in between both supervised and unsupervised learning.\n",
    "    \n",
    "Let's give a few examples:  \n",
    "- **Supervised learning**: You are a football fan and you really want to know which team will win the next World Cup, to do so you have acuired all the results of all the matches played by all the teams so far (with every input variable that you can on the different matches: players, date, temperature ...), and all the performances of the different players. And the labels (output variable) is the number of goals during the match for each team.\n",
    "- **Unsupervised learning**: You have several measures (evolution of weight, height, iq, psychologic test, number of friends, ... and much more) on several American men during 20 years and you would like to see if you can distinguish two groups in this population: one happy and one unhappy, but you have no direct way for measuring it.\n",
    "- **Semi supervised learning**: You work for Google and you want to recognize objects on a given image. Labelling each pixel of each picture that Google has would be reeeeaaaally long and expensive. So you will just do it on some of them but you want to take advantage of all the images that you have because more data you have, better can be your model ! "
   ]
  },
  {
   "cell_type": "markdown",
   "metadata": {},
   "source": [
    "What is the house price problem ?"
   ]
  },
  {
   "cell_type": "markdown",
   "metadata": {},
   "source": [
    "These kind of learning algorithm can be divided into **regression** vs **classification**. In a classification, the goal is to predict the class of an object (a discrete value). In a regression, the goal is to predict a continuous value. "
   ]
  },
  {
   "cell_type": "markdown",
   "metadata": {},
   "source": [
    "If you have extratime, choose an article at [FiveThirtyEight](http://fivethirtyeight.com/) and try to determine what kind of problem they describe."
   ]
  }
 ],
 "metadata": {
  "kernelspec": {
   "display_name": "Python 3",
   "language": "python",
   "name": "python3"
  },
  "language_info": {
   "codemirror_mode": {
    "name": "ipython",
    "version": 3
   },
   "file_extension": ".py",
   "mimetype": "text/x-python",
   "name": "python",
   "nbconvert_exporter": "python",
   "pygments_lexer": "ipython3",
   "version": "3.5.2"
  }
 },
 "nbformat": 4,
 "nbformat_minor": 2
}