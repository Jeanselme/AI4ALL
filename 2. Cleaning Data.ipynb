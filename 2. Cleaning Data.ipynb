{
 "cells": [
  {
   "cell_type": "markdown",
   "metadata": {},
   "source": [
    "This notebook will describe what are **missing data** and correct them, then it deals with **qualitative** data. This different transformations will be necessary in order to build our predictive models. \n",
    "\n",
    "As usual, let's start by importing all the libraries needed !"
   ]
  },
  {
   "cell_type": "code",
   "execution_count": null,
   "metadata": {},
   "outputs": [],
   "source": [
    "import numpy as np\n",
    "import pandas as pd\n",
    "import seaborn as sns\n",
    "import matplotlib.pyplot as plt"
   ]
  },
  {
   "cell_type": "code",
   "execution_count": null,
   "metadata": {},
   "outputs": [],
   "source": [
    "# First, open the data\n",
    "name = \"train\"\n",
    "houses = pd.read_csv('data/' + name + '.csv')"
   ]
  },
  {
   "cell_type": "code",
   "execution_count": null,
   "metadata": {},
   "outputs": [],
   "source": [
    "# Then, look at .describe()\n"
   ]
  },
  {
   "cell_type": "markdown",
   "metadata": {},
   "source": [
    "Yes, that it is not super easy to read the number of missing data with **count**, so let's visualize how much missing data there is in this dataset and which features are affected.\n",
    "You will need to call the functions:\n",
    "- `isnull()` which transforms the dataset, each missing value will become 1 and all the other 0.\n",
    "- and then `sum()` which will compute the sum of each columns, this way you will observe the number of missing values for each features"
   ]
  },
  {
   "cell_type": "code",
   "execution_count": null,
   "metadata": {},
   "outputs": [],
   "source": [
    "numNullCol = \n",
    "numNullCol"
   ]
  },
  {
   "cell_type": "markdown",
   "metadata": {},
   "source": [
    "Then select only the non zero ones and anwser the questions\n",
    "- How many features are affected by missing data ?\n",
    "- How many missing data are there in total ?\n",
    "- Which feature is the most affected ? Use the function `.sort_values()` in order to sort the given dataset"
   ]
  },
  {
   "cell_type": "code",
   "execution_count": null,
   "metadata": {},
   "outputs": [],
   "source": [
    "numNullCol = \n",
    "numNullCol"
   ]
  },
  {
   "cell_type": "markdown",
   "metadata": {},
   "source": [
    "However a good visualization is better than words, use the function `.plot.bar()` in order to display numNullCol"
   ]
  },
  {
   "cell_type": "code",
   "execution_count": null,
   "metadata": {},
   "outputs": [],
   "source": []
  },
  {
   "cell_type": "markdown",
   "metadata": {},
   "source": [
    "# Missing values"
   ]
  },
  {
   "cell_type": "markdown",
   "metadata": {},
   "source": [
    "Why do we even bother with missing data ?\n",
    "\n",
    "A computer needs to have simple structure to deal with and if there is a missing data, it does not really know how to deal with it... Does it mean that the data is not available ? Does it mean that the variable is not applicable in this case ? Or simply that somebody has forgotten to type it in the file ?\n",
    "\n",
    "Usually it requires the expertise of a specialist in order to deal with the missing data. In our case, it is pretty straightforward but if now you have to deal with missing data in a medical record, how do you replace missing ECG ? You will certainly need the help of a doctor !"
   ]
  },
  {
   "cell_type": "markdown",
   "metadata": {},
   "source": [
    "So now, let's see how to clean this data. To do so, we have to see what are the existing values of these columns to have a better idea on how to complete them. We will explore three examples and you will have to do the same for the rest of them !\n",
    "\n",
    "First let's look at `Alley`, the file data_description.md defines this variable as \"Type of alley access\"."
   ]
  },
  {
   "cell_type": "code",
   "execution_count": null,
   "metadata": {},
   "outputs": [],
   "source": [
    "houses.Alley.unique() "
   ]
  },
  {
   "cell_type": "markdown",
   "metadata": {},
   "source": [
    "This first command shows all the value observed in the dataset, `nan` indicates a missing data. And the two other values indicates the type of alley. So, in this case, we can assume that the house does not have an alley. So we will replace all the `nan` values with `Absent`."
   ]
  },
  {
   "cell_type": "code",
   "execution_count": null,
   "metadata": {},
   "outputs": [],
   "source": [
    "houses.Alley = houses.Alley.fillna('Absent') \n",
    "# Replace all absent data by the given value (be careful to give the same type of data)\n",
    "houses.Alley.unique() # To verify there is no more 'nan'"
   ]
  },
  {
   "cell_type": "markdown",
   "metadata": {},
   "source": [
    "Perfect, one is corrected ! Let's look at the 18 others... That sounds quite long, isn't it ? So let's do a little refresher on the loop in python. You have certainly noticed some `for` loops in some previous functions.\n",
    "\n",
    "In Python, a for loop allows you to iterate over a list.\n",
    "\n",
    "    breakfast_list = ['bread', 'butter', 'jam']\n",
    "\n",
    "    for item in breakfast_list:\n",
    "        print item\n",
    "        \n",
    "For example, the code above prints out the following output:\n",
    "\n",
    "    bread\n",
    "    butter\n",
    "    jam"
   ]
  },
  {
   "cell_type": "markdown",
   "metadata": {},
   "source": [
    "So let's first look at the values present in the features GarageType, GarageYrBlt, GarageFinish, GarageQual, GarageCond. Complete the following function to see the different values of each feature"
   ]
  },
  {
   "cell_type": "code",
   "execution_count": null,
   "metadata": {},
   "outputs": [],
   "source": [
    "for feature in ['GarageType', 'GarageYrBlt', 'GarageFinish', 'GarageQual', 'GarageCond']:\n",
    "    values = \n",
    "    print(feature, values)"
   ]
  },
  {
   "cell_type": "markdown",
   "metadata": {},
   "source": [
    "So, it appears that GarageType, GarageFinish, GarageQual and GarageCond are qualitative variables concerning the garage. It seems natural to think that there is no garage in these houses when we enconter a nan value. So, let's replace `nan` with \"Absent\". \n",
    "\n",
    "Write a for loop that does this transformation."
   ]
  },
  {
   "cell_type": "code",
   "execution_count": null,
   "metadata": {},
   "outputs": [],
   "source": [
    "for"
   ]
  },
  {
   "cell_type": "markdown",
   "metadata": {},
   "source": [
    "We have not change the `nan` value of the variable GarageYrBlt because it is a numeric feature and it is not a good idea to replace it with a String value. However, what should we do ? This question is less easy than it appears. Replacing the value with 0 can impact the model if the model is to simple: a linear regression will take the year as a numerical value and try fit a line to the point. You can observe the change in the following plot :"
   ]
  },
  {
   "cell_type": "code",
   "execution_count": null,
   "metadata": {},
   "outputs": [],
   "source": [
    "plt.figure()\n",
    "sns.regplot(houses.SalePrice, houses.GarageYrBlt, label = \"Nan Ignored\", scatter_kws={\"alpha\": 0.25})\n",
    "sns.regplot(houses.SalePrice, houses.GarageYrBlt.fillna(0), label = \"Nan replaced by zero\", scatter_kws={\"alpha\": 0.25})\n",
    "plt.legend()\n",
    "plt.show()"
   ]
  },
  {
   "cell_type": "markdown",
   "metadata": {},
   "source": [
    "So, what should we do ? Find pros and cons for each of the proposition and change the column with your choice\n",
    "- Delete the column \n",
    "- Replace with a quantitative column\n",
    "- Replace with 0 but use a model which can handle this error\n",
    "- Compute the difference between YrSold and GarageYrBlt and replace the missing values with -1"
   ]
  },
  {
   "cell_type": "code",
   "execution_count": null,
   "metadata": {},
   "outputs": [],
   "source": [
    "houses.GarageYrBlt = "
   ]
  },
  {
   "cell_type": "markdown",
   "metadata": {},
   "source": [
    "Let's do a similar for loop for all the variables concerning the garage and correct them "
   ]
  },
  {
   "cell_type": "code",
   "execution_count": null,
   "metadata": {},
   "outputs": [],
   "source": [
    "for "
   ]
  },
  {
   "cell_type": "markdown",
   "metadata": {},
   "source": [
    "Now, let's analyze a simplier quantitative value: LotFrontage which is \"Linear feet of street connected to property\", so it seems natural in this case to replace the missing values with 0."
   ]
  },
  {
   "cell_type": "code",
   "execution_count": null,
   "metadata": {},
   "outputs": [],
   "source": [
    "houses.LotFrontage.unique()"
   ]
  },
  {
   "cell_type": "code",
   "execution_count": null,
   "metadata": {},
   "outputs": [],
   "source": [
    "houses.LotFrontage = houses.LotFrontage.fillna(0)"
   ]
  },
  {
   "cell_type": "markdown",
   "metadata": {},
   "source": [
    "By now it should only remain 7 features. Do it in a similar way than previously "
   ]
  },
  {
   "cell_type": "code",
   "execution_count": null,
   "metadata": {},
   "outputs": [],
   "source": []
  },
  {
   "cell_type": "code",
   "execution_count": null,
   "metadata": {},
   "outputs": [],
   "source": [
    "assert houses.isna().sum().sum() == 0, \"Verify the cleaning section, it seems there are still some errors\""
   ]
  },
  {
   "cell_type": "markdown",
   "metadata": {},
   "source": [
    "Perfect ! You have cleaned the data now and you certainly understand why it takes a lot of time to datascientists to collect but also analyse and clean the data. So you certainly don't want to redo this work next time, so let's save it"
   ]
  },
  {
   "cell_type": "code",
   "execution_count": null,
   "metadata": {},
   "outputs": [],
   "source": [
    "houses.to_csv('data/' + name + '_cleaned.csv') # Save in a second file (it is important to always keep original)"
   ]
  },
  {
   "cell_type": "markdown",
   "metadata": {},
   "source": [
    "# Qualitative data"
   ]
  },
  {
   "cell_type": "markdown",
   "metadata": {},
   "source": [
    "As discuss in the first notebook, it is really important to deal with the qualitative data because some model will not be able to deal with them if there are not transformed.\n",
    "First let's see which features are qualitative."
   ]
  },
  {
   "cell_type": "code",
   "execution_count": null,
   "metadata": {},
   "outputs": [],
   "source": [
    "houses.select_dtypes(exclude='number').describe()"
   ]
  },
  {
   "cell_type": "markdown",
   "metadata": {},
   "source": [
    "How many different variables are qualitative ? And how many unique values are there (if you sum over all the qualitative features) ?"
   ]
  },
  {
   "cell_type": "code",
   "execution_count": null,
   "metadata": {},
   "outputs": [],
   "source": []
  },
  {
   "cell_type": "markdown",
   "metadata": {},
   "source": [
    "What can we do, discuss the following possibilities \n",
    "- Ignore them \n",
    "- Replace the different values by a number (example: Imagine a feature \"ColorWall\" with values \"Green\", \"Blue\", \"Yellow\", you can replace all \"Green\" with 0, \"Blue\" with 1 and etc)\n",
    "- Encode the features with several column (example: Replace the feature \"ColorWall\" with three different columns \"ColorWallIsGreen\", \"ColorWallIsBlue\" and \"ColorWallIsYellow\" and if the house has the value \"Green\" in \"ColorWall\" then it will have 1 in \"ColorWallIsGreen\" and 0 in the two others) "
   ]
  },
  {
   "cell_type": "markdown",
   "metadata": {},
   "source": [
    "We will use the dummy coding proposed by pandas : `pd.get_dummies(dataset)`"
   ]
  },
  {
   "cell_type": "code",
   "execution_count": null,
   "metadata": {},
   "outputs": [],
   "source": [
    "houses = "
   ]
  },
  {
   "cell_type": "code",
   "execution_count": null,
   "metadata": {},
   "outputs": [],
   "source": [
    "houses.to_csv('data/' + name + '_cleaned_nocategorical.csv') # Save in a third file"
   ]
  },
  {
   "cell_type": "code",
   "execution_count": null,
   "metadata": {},
   "outputs": [],
   "source": [
    "assert len(houses.select_dtypes(exclude='number').columns) == len(houses.columns) , \"There remain some categorical features\""
   ]
  },
  {
   "cell_type": "markdown",
   "metadata": {},
   "source": [
    "There is a second file which is composed of the same features and that will be useful in the future. \n",
    "Replace in the first cell the variable `name` of the section **Dealing with missing data** with \"kaggle\" and rerun the notebook by clicking on Kernel > Restart & Run All and verify that every cell has run."
   ]
  },
  {
   "cell_type": "code",
   "execution_count": null,
   "metadata": {},
   "outputs": [],
   "source": []
  }
 ],
 "metadata": {
  "kernelspec": {
   "display_name": "Python 3",
   "language": "python",
   "name": "python3"
  },
  "language_info": {
   "codemirror_mode": {
    "name": "ipython",
    "version": 3
   },
   "file_extension": ".py",
   "mimetype": "text/x-python",
   "name": "python",
   "nbconvert_exporter": "python",
   "pygments_lexer": "ipython3",
   "version": "3.5.2"
  }
 },
 "nbformat": 4,
 "nbformat_minor": 2
}