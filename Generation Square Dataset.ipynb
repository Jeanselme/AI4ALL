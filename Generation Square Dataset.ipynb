{
 "cells": [
  {
   "cell_type": "markdown",
   "metadata": {},
   "source": [
    "This simple script builds the square dataset which is a highly redondant dataset. It will be used for regression and also dimension reduction."
   ]
  },
  {
   "cell_type": "code",
   "execution_count": null,
   "metadata": {},
   "outputs": [],
   "source": [
    "import numpy as np\n",
    "import pandas as pd\n",
    "import matplotlib.pyplot as plt"
   ]
  },
  {
   "cell_type": "code",
   "execution_count": null,
   "metadata": {},
   "outputs": [],
   "source": [
    "def random_square():\n",
    "    \"\"\"\n",
    "        Computes the coordinates of a random square\n",
    "    \"\"\"\n",
    "    x0, y0, length, angle = np.random.rand(4)\n",
    "    angle *= np.pi / 2. #(because we want it between 0 and 90\u00b0)\n",
    "    x1, y1 = length * np.cos(angle) + x0, length * np.sin(angle) + y0\n",
    "    angle += np.pi/4.\n",
    "    x2, y2 = np.sqrt(2) * length * np.cos(angle) + x0, np.sqrt(2) * length * np.sin(angle) + y0\n",
    "    angle += np.pi/4.\n",
    "    x3, y3 = length * np.cos(angle) + x0, length * np.sin(angle) + y0\n",
    "    return x0, y0, x1, y1, x2, y2, x3, y3, length**2"
   ]
  },
  {
   "cell_type": "code",
   "execution_count": null,
   "metadata": {},
   "outputs": [],
   "source": [
    "def displaySquare(x0, y0, x1, y1, x2, y2, x3, y3):\n",
    "    \"\"\"\n",
    "        Displays the square\n",
    "    \"\"\"\n",
    "    plt.figure()\n",
    "    plt.axis('equal') # To avoid deformation\n",
    "    plt.plot([x0, x1, x2, x3, x0], [y0, y1, y2, y3, y0])\n",
    "    plt.show()"
   ]
  },
  {
   "cell_type": "code",
   "execution_count": null,
   "metadata": {},
   "outputs": [],
   "source": [
    "# Test\n",
    "x0, y0, x1, y1, x2, y2, x3, y3, area = random_square()\n",
    "displaySquare(x0, y0, x1, y1, x2, y2, x3, y3)"
   ]
  },
  {
   "cell_type": "code",
   "execution_count": null,
   "metadata": {},
   "outputs": [],
   "source": [
    "# Number in the final dataset\n",
    "number_square = 10**3"
   ]
  },
  {
   "cell_type": "code",
   "execution_count": null,
   "metadata": {},
   "outputs": [],
   "source": [
    "labels = ['x0', 'y0', 'x1', 'y1', 'x2', 'y2', 'x3', 'y3', 'area']\n",
    "squares = [random_square() for _ in range(number_square)]"
   ]
  },
  {
   "cell_type": "code",
   "execution_count": null,
   "metadata": {},
   "outputs": [],
   "source": [
    "# Create the dataframe and save it\n",
    "df = pd.DataFrame.from_records(squares, columns=labels)\n",
    "df.to_csv(\"data/squares.csv\", index_label=False)"
   ]
  },
  {
   "cell_type": "code",
   "execution_count": null,
   "metadata": {},
   "outputs": [],
   "source": []
  }
 ],
 "metadata": {
  "kernelspec": {
   "display_name": "Python 3",
   "language": "python",
   "name": "python3"
  },
  "language_info": {
   "codemirror_mode": {
    "name": "ipython",
    "version": 3
   },
   "file_extension": ".py",
   "mimetype": "text/x-python",
   "name": "python",
   "nbconvert_exporter": "python",
   "pygments_lexer": "ipython3",
   "version": "3.5.2"
  }
 },
 "nbformat": 4,
 "nbformat_minor": 2
}